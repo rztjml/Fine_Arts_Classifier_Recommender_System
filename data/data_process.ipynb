{
 "cells": [
  {
   "cell_type": "markdown",
   "metadata": {},
   "source": [
    "# Data Preprocessing\n",
    "\n",
    "## By Art Style\n",
    "The goal is to resize the photos to 224x224 pixels for ResNet.\n",
    "\n",
    "The options are:\n",
    "- Resize to 224x224\n",
    "- Resize with padding to 224x224\n",
    "- Segment into parts and break into 224x224\n",
    "\n",
    "We will use the last two options as they will not distort the images. The concern of resizing to 224x224 is the loss of resolution which may reduce the information or eliminate features which would be useful. An example would be Pointillism. This art style is characterized by the use of dots to form its images. If our resolution is too low, our images may no longer show this feature. This is why we will also try to break the image into a 3x3 grid. If necessary the grid can be increased to prevent any information loss, but that would be computationally expensive.\n",
    "\n",
    "The results will be uploaded to [Google Drive](https://drive.google.com/drive/folders/1fsx3uTF6Ho_kbfiKEjF-EojjG6GhN7is)."
   ]
  },
  {
   "cell_type": "markdown",
   "metadata": {},
   "source": [
    "### Resize"
   ]
  },
  {
   "cell_type": "markdown",
   "metadata": {},
   "source": [
    "We will add zero padding and resize the images to 224x224."
   ]
  },
  {
   "cell_type": "code",
   "execution_count": 9,
   "metadata": {},
   "outputs": [
    {
     "name": "stdout",
     "output_type": "stream",
     "text": [
      "Resizing and saving completed.\n"
     ]
    }
   ],
   "source": [
    "from PIL import Image, ImageOps\n",
    "import os\n",
    "\n",
    "# Input and output paths\n",
    "input_folder = \"E:\\\\wikiART\\\\\"\n",
    "output_folder = \"E:\\\\wikiART224\\\\\"\n",
    "\n",
    "target_size = (224, 224) #RESNET\n",
    "\n",
    "# Iterate through each style folder\n",
    "for style_folder in os.listdir(input_folder):\n",
    "    style_path = os.path.join(input_folder, style_folder)\n",
    "    output_style_path = os.path.join(output_folder, style_folder)\n",
    "\n",
    "    # Create output folder if it doesn't exist\n",
    "    os.makedirs(output_style_path, exist_ok=True)\n",
    "\n",
    "    # Iterate through images in the style folder\n",
    "    for image_file in os.listdir(style_path):\n",
    "        if image_file.endswith(\".jpg\"):\n",
    "            image_path = os.path.join(style_path, image_file)\n",
    "            output_path = os.path.join(output_style_path, image_file)\n",
    "\n",
    "            # Open the image\n",
    "            with Image.open(image_path) as img:\n",
    "                # Resize the image with zero padding\n",
    "                padded_img = ImageOps.pad(img, target_size, method=0, color=0)\n",
    "                \n",
    "                # Save the resized image\n",
    "                padded_img.save(output_path)\n",
    "\n",
    "print(\"Resizing and saving completed.\")\n"
   ]
  },
  {
   "cell_type": "markdown",
   "metadata": {},
   "source": [
    "### Segment\n",
    "\n",
    "We will add zero padding to one dimension to transform the images to a 1:1 aspect ratio. We will then segment into a 3x3 grid and resize each to 224x224. A 3x3 grid was chosen as it's the smallest dimensions which will provide a center crop. "
   ]
  },
  {
   "cell_type": "code",
   "execution_count": 10,
   "metadata": {},
   "outputs": [
    {
     "name": "stdout",
     "output_type": "stream",
     "text": [
      "Resizing, padding, and splitting completed.\n"
     ]
    }
   ],
   "source": [
    "from PIL import Image, ImageOps\n",
    "import os\n",
    "\n",
    "# Input and output paths\n",
    "input_folder = \"E:\\\\wikiART\\\\\"\n",
    "output_folder = \"E:\\\\wikiART9\\\\\"\n",
    "\n",
    "# Size and number of splits (square grid)\n",
    "target_size = (224, 224) #ResNET\n",
    "num_splits = 3  # 3x3 grid\n",
    "\n",
    "# Check if the input folder exists\n",
    "if not os.path.exists(input_folder) or not os.path.isdir(input_folder):\n",
    "    print(f\"Error: Input folder '{input_folder}' does not exist.\")\n",
    "    exit()\n",
    "\n",
    "# Create output folder if it doesn't exist\n",
    "os.makedirs(output_folder, exist_ok=True)\n",
    "\n",
    "# Iterate through each style folder\n",
    "for style_folder in os.listdir(input_folder):\n",
    "    style_path = os.path.join(input_folder, style_folder)\n",
    "\n",
    "    # Check if the item in the input folder is a directory\n",
    "    if os.path.isdir(style_path):\n",
    "        output_style_path = os.path.join(output_folder, style_folder)\n",
    "        os.makedirs(output_style_path, exist_ok=True)\n",
    "\n",
    "        # Iterate through images in the style folder\n",
    "        for image_file in os.listdir(style_path):\n",
    "            if image_file.endswith(\".jpg\"):\n",
    "                image_path = os.path.join(style_path, image_file)\n",
    "                output_path_prefix = os.path.join(output_style_path, image_file.split('.')[0])\n",
    "\n",
    "                # Open the image\n",
    "                with Image.open(image_path) as img:\n",
    "                    # Resize the image with zero padding to make it 1:1 aspect ratio\n",
    "                    padded_img = ImageOps.pad(img, (max(img.size), max(img.size)), method=0, color=0)\n",
    "\n",
    "                    # Split the image into num_splits x num_splits smaller images\n",
    "                    for i in range(num_splits):\n",
    "                        for j in range(num_splits):\n",
    "                            left = i * (padded_img.width // num_splits)\n",
    "                            upper = j * (padded_img.height // num_splits)\n",
    "                            right = left + (padded_img.width // num_splits)\n",
    "                            lower = upper + (padded_img.height // num_splits)\n",
    "\n",
    "                            # Crop the image\n",
    "                            cropped_img = padded_img.crop((left, upper, right, lower))\n",
    "\n",
    "                            # Save the cropped image\n",
    "                            output_path = f\"{output_path_prefix}_crop_{i}_{j}.jpg\"\n",
    "                            cropped_img.save(output_path)\n",
    "\n",
    "print(\"Resizing, padding, and splitting completed.\")\n"
   ]
  },
  {
   "cell_type": "markdown",
   "metadata": {},
   "source": [
    "## By Genre\n",
    "\n",
    "Move files into the format that Pytorch needs (class folders) using `labels.csv`"
   ]
  }
 ],
 "metadata": {
  "kernelspec": {
   "display_name": ".venv",
   "language": "python",
   "name": "python3"
  },
  "language_info": {
   "codemirror_mode": {
    "name": "ipython",
    "version": 3
   },
   "file_extension": ".py",
   "mimetype": "text/x-python",
   "name": "python",
   "nbconvert_exporter": "python",
   "pygments_lexer": "ipython3",
   "version": "3.10.8"
  }
 },
 "nbformat": 4,
 "nbformat_minor": 2
}
