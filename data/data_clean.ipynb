{
 "cells": [
  {
   "cell_type": "markdown",
   "metadata": {},
   "source": [
    "# Data Cleaning Meta Data from New Dataset\n",
    "\n",
    "Using this version of [wikiART dataset](https://archive.org/details/wikiart-dataset), since the other datasets had many issues including missing files, inconsistent metadata, and missing classes. This was preferred over calling the [wikiART API](https://www.wikiart.org/en/App/GetApi), as it has a requests limit of 400/hr."
   ]
  },
  {
   "cell_type": "code",
   "execution_count": 18,
   "metadata": {},
   "outputs": [],
   "source": [
    "import pandas as pd\n",
    "data_raw = pd.read_csv('wclasses.csv')"
   ]
  },
  {
   "cell_type": "code",
   "execution_count": 19,
   "metadata": {},
   "outputs": [
    {
     "data": {
      "text/html": [
       "<div>\n",
       "<style scoped>\n",
       "    .dataframe tbody tr th:only-of-type {\n",
       "        vertical-align: middle;\n",
       "    }\n",
       "\n",
       "    .dataframe tbody tr th {\n",
       "        vertical-align: top;\n",
       "    }\n",
       "\n",
       "    .dataframe thead th {\n",
       "        text-align: right;\n",
       "    }\n",
       "</style>\n",
       "<table border=\"1\" class=\"dataframe\">\n",
       "  <thead>\n",
       "    <tr style=\"text-align: right;\">\n",
       "      <th></th>\n",
       "      <th>file</th>\n",
       "      <th>artist</th>\n",
       "      <th>genre</th>\n",
       "      <th>style</th>\n",
       "    </tr>\n",
       "  </thead>\n",
       "  <tbody>\n",
       "    <tr>\n",
       "      <th>0</th>\n",
       "      <td>Realism/vincent-van-gogh_pine-trees-in-the-fen...</td>\n",
       "      <td>22</td>\n",
       "      <td>133</td>\n",
       "      <td>161</td>\n",
       "    </tr>\n",
       "    <tr>\n",
       "      <th>1</th>\n",
       "      <td>Baroque/rembrandt_the-angel-appearing-to-the-s...</td>\n",
       "      <td>20</td>\n",
       "      <td>136</td>\n",
       "      <td>144</td>\n",
       "    </tr>\n",
       "  </tbody>\n",
       "</table>\n",
       "</div>"
      ],
      "text/plain": [
       "                                                file  artist  genre  style\n",
       "0  Realism/vincent-van-gogh_pine-trees-in-the-fen...      22    133    161\n",
       "1  Baroque/rembrandt_the-angel-appearing-to-the-s...      20    136    144"
      ]
     },
     "execution_count": 19,
     "metadata": {},
     "output_type": "execute_result"
    }
   ],
   "source": [
    "data_raw.head(2)"
   ]
  },
  {
   "cell_type": "markdown",
   "metadata": {},
   "source": [
    "The target output of our model should be one of artist, genre, or style. The artist, genre, and style are encoded in the `classes.php` file. Unfortunately many of the artists are not included. This means we will need to convert the encodings for genre and style, while obtaining the artist from the filename. Since working with `.php` files in python is unusual, it will be faster to just copy the relevant parts of the dictionary into python."
   ]
  },
  {
   "cell_type": "code",
   "execution_count": 20,
   "metadata": {},
   "outputs": [],
   "source": [
    "class_dict ={129 : 'abstract_painting',\n",
    "    130 : 'cityscape',\n",
    "    131 : 'genre_painting',\n",
    "    132 : 'illustration',\n",
    "    133 : 'landscape',\n",
    "    134 : 'nude_painting',\n",
    "    135 : 'portrait',\n",
    "    136 : 'religious_painting',\n",
    "    137 : 'sketch_and_study',\n",
    "    138 : 'still_life',\n",
    "    139 : 'Unknown Genre',\n",
    "    140 : 'Abstract_Expressionism',\n",
    "    141 : 'Action_painting',\n",
    "    142 : 'Analytical_Cubism',\n",
    "    143 : 'Art_Nouveau',\n",
    "    144 : 'Baroque',\n",
    "    145 : 'Color_Field_Painting',\n",
    "    146 : 'Contemporary_Realism',\n",
    "    147 : 'Cubism',\n",
    "    148 : 'Early_Renaissance',\n",
    "    149 : 'Expressionism',\n",
    "    150 : 'Fauvism',\n",
    "    151 : 'High_Renaissance',\n",
    "    152 : 'Impressionism',\n",
    "    153 : 'Mannerism_Late_Renaissance',\n",
    "    154 : 'Minimalism',\n",
    "    155 : 'Naive_Art_Primitivism',\n",
    "    156 : 'New_Realism',\n",
    "    157 : 'Northern_Renaissance',\n",
    "    158 : 'Pointillism',\n",
    "    159 : 'Pop_Art',\n",
    "    160 : 'Post_Impressionism',\n",
    "    161 : 'Realism',\n",
    "    162 : 'Rococo',\n",
    "    163 : 'Romanticism',\n",
    "    164 : 'Symbolism',\n",
    "    165 : 'Synthetic_Cubism',\n",
    "    166 : 'Ukiyo_e'}"
   ]
  },
  {
   "cell_type": "markdown",
   "metadata": {},
   "source": [
    "We map the encodings in the dataframe to their values in the dictionary."
   ]
  },
  {
   "cell_type": "code",
   "execution_count": 21,
   "metadata": {},
   "outputs": [
    {
     "data": {
      "text/html": [
       "<div>\n",
       "<style scoped>\n",
       "    .dataframe tbody tr th:only-of-type {\n",
       "        vertical-align: middle;\n",
       "    }\n",
       "\n",
       "    .dataframe tbody tr th {\n",
       "        vertical-align: top;\n",
       "    }\n",
       "\n",
       "    .dataframe thead th {\n",
       "        text-align: right;\n",
       "    }\n",
       "</style>\n",
       "<table border=\"1\" class=\"dataframe\">\n",
       "  <thead>\n",
       "    <tr style=\"text-align: right;\">\n",
       "      <th></th>\n",
       "      <th>file</th>\n",
       "      <th>artist</th>\n",
       "      <th>genre</th>\n",
       "      <th>art_style</th>\n",
       "    </tr>\n",
       "  </thead>\n",
       "  <tbody>\n",
       "    <tr>\n",
       "      <th>0</th>\n",
       "      <td>Realism/vincent-van-gogh_pine-trees-in-the-fen...</td>\n",
       "      <td>22</td>\n",
       "      <td>landscape</td>\n",
       "      <td>Realism</td>\n",
       "    </tr>\n",
       "    <tr>\n",
       "      <th>1</th>\n",
       "      <td>Baroque/rembrandt_the-angel-appearing-to-the-s...</td>\n",
       "      <td>20</td>\n",
       "      <td>religious_painting</td>\n",
       "      <td>Baroque</td>\n",
       "    </tr>\n",
       "    <tr>\n",
       "      <th>2</th>\n",
       "      <td>Post_Impressionism/paul-cezanne_portrait-of-th...</td>\n",
       "      <td>16</td>\n",
       "      <td>portrait</td>\n",
       "      <td>Post_Impressionism</td>\n",
       "    </tr>\n",
       "    <tr>\n",
       "      <th>3</th>\n",
       "      <td>Impressionism/pierre-auguste-renoir_young-girl...</td>\n",
       "      <td>17</td>\n",
       "      <td>genre_painting</td>\n",
       "      <td>Impressionism</td>\n",
       "    </tr>\n",
       "    <tr>\n",
       "      <th>4</th>\n",
       "      <td>Romanticism/ivan-aivazovsky_morning-1851.jpg</td>\n",
       "      <td>9</td>\n",
       "      <td>Unknown Genre</td>\n",
       "      <td>Romanticism</td>\n",
       "    </tr>\n",
       "  </tbody>\n",
       "</table>\n",
       "</div>"
      ],
      "text/plain": [
       "                                                file  artist  \\\n",
       "0  Realism/vincent-van-gogh_pine-trees-in-the-fen...      22   \n",
       "1  Baroque/rembrandt_the-angel-appearing-to-the-s...      20   \n",
       "2  Post_Impressionism/paul-cezanne_portrait-of-th...      16   \n",
       "3  Impressionism/pierre-auguste-renoir_young-girl...      17   \n",
       "4       Romanticism/ivan-aivazovsky_morning-1851.jpg       9   \n",
       "\n",
       "                genre           art_style  \n",
       "0           landscape             Realism  \n",
       "1  religious_painting             Baroque  \n",
       "2            portrait  Post_Impressionism  \n",
       "3      genre_painting       Impressionism  \n",
       "4       Unknown Genre         Romanticism  "
      ]
     },
     "execution_count": 21,
     "metadata": {},
     "output_type": "execute_result"
    }
   ],
   "source": [
    "df = data_raw\n",
    "df['genre'] = df['genre'].map(class_dict)\n",
    "df['art_style'] = df['style'].map(class_dict)\n",
    "df.drop(columns=['style'], inplace=True)\n",
    "df.head(5)"
   ]
  },
  {
   "cell_type": "code",
   "execution_count": 22,
   "metadata": {},
   "outputs": [
    {
     "data": {
      "text/plain": [
       "array(['landscape', 'religious_painting', 'portrait', 'genre_painting',\n",
       "       'Unknown Genre', 'still_life', 'sketch_and_study', 'illustration',\n",
       "       'cityscape', 'nude_painting', 'abstract_painting'], dtype=object)"
      ]
     },
     "execution_count": 22,
     "metadata": {},
     "output_type": "execute_result"
    }
   ],
   "source": [
    "df.genre.unique()"
   ]
  },
  {
   "cell_type": "code",
   "execution_count": 24,
   "metadata": {},
   "outputs": [
    {
     "data": {
      "text/plain": [
       "array(['Realism', 'Baroque', 'Post_Impressionism', 'Impressionism',\n",
       "       'Romanticism', 'Art_Nouveau', 'Northern_Renaissance', 'Symbolism',\n",
       "       'Naive_Art_Primitivism', 'Expressionism', 'Cubism', 'Fauvism',\n",
       "       'Analytical_Cubism', 'Abstract_Expressionism', 'Synthetic_Cubism',\n",
       "       'Pointillism', 'Early_Renaissance', 'Color_Field_Painting',\n",
       "       'New_Realism', 'Ukiyo_e', 'Rococo', 'High_Renaissance',\n",
       "       'Mannerism_Late_Renaissance', 'Pop_Art', 'Contemporary_Realism',\n",
       "       'Minimalism', 'Action_painting'], dtype=object)"
      ]
     },
     "execution_count": 24,
     "metadata": {},
     "output_type": "execute_result"
    }
   ],
   "source": [
    "df.art_style.unique()"
   ]
  },
  {
   "cell_type": "markdown",
   "metadata": {},
   "source": [
    "Replace the unknowns with NaN"
   ]
  },
  {
   "cell_type": "code",
   "execution_count": 26,
   "metadata": {},
   "outputs": [],
   "source": [
    "import numpy as np\n",
    "df['genre'] = df['genre'].replace('Unknown Genre', np.nan)"
   ]
  },
  {
   "cell_type": "code",
   "execution_count": 27,
   "metadata": {},
   "outputs": [
    {
     "data": {
      "text/html": [
       "<div>\n",
       "<style scoped>\n",
       "    .dataframe tbody tr th:only-of-type {\n",
       "        vertical-align: middle;\n",
       "    }\n",
       "\n",
       "    .dataframe tbody tr th {\n",
       "        vertical-align: top;\n",
       "    }\n",
       "\n",
       "    .dataframe thead th {\n",
       "        text-align: right;\n",
       "    }\n",
       "</style>\n",
       "<table border=\"1\" class=\"dataframe\">\n",
       "  <thead>\n",
       "    <tr style=\"text-align: right;\">\n",
       "      <th></th>\n",
       "      <th>file</th>\n",
       "      <th>artist</th>\n",
       "      <th>genre</th>\n",
       "      <th>art_style</th>\n",
       "    </tr>\n",
       "  </thead>\n",
       "  <tbody>\n",
       "    <tr>\n",
       "      <th>0</th>\n",
       "      <td>Realism/vincent-van-gogh_pine-trees-in-the-fen...</td>\n",
       "      <td>22</td>\n",
       "      <td>landscape</td>\n",
       "      <td>Realism</td>\n",
       "    </tr>\n",
       "    <tr>\n",
       "      <th>1</th>\n",
       "      <td>Baroque/rembrandt_the-angel-appearing-to-the-s...</td>\n",
       "      <td>20</td>\n",
       "      <td>religious_painting</td>\n",
       "      <td>Baroque</td>\n",
       "    </tr>\n",
       "    <tr>\n",
       "      <th>2</th>\n",
       "      <td>Post_Impressionism/paul-cezanne_portrait-of-th...</td>\n",
       "      <td>16</td>\n",
       "      <td>portrait</td>\n",
       "      <td>Post_Impressionism</td>\n",
       "    </tr>\n",
       "    <tr>\n",
       "      <th>3</th>\n",
       "      <td>Impressionism/pierre-auguste-renoir_young-girl...</td>\n",
       "      <td>17</td>\n",
       "      <td>genre_painting</td>\n",
       "      <td>Impressionism</td>\n",
       "    </tr>\n",
       "    <tr>\n",
       "      <th>4</th>\n",
       "      <td>Romanticism/ivan-aivazovsky_morning-1851.jpg</td>\n",
       "      <td>9</td>\n",
       "      <td>NaN</td>\n",
       "      <td>Romanticism</td>\n",
       "    </tr>\n",
       "  </tbody>\n",
       "</table>\n",
       "</div>"
      ],
      "text/plain": [
       "                                                file  artist  \\\n",
       "0  Realism/vincent-van-gogh_pine-trees-in-the-fen...      22   \n",
       "1  Baroque/rembrandt_the-angel-appearing-to-the-s...      20   \n",
       "2  Post_Impressionism/paul-cezanne_portrait-of-th...      16   \n",
       "3  Impressionism/pierre-auguste-renoir_young-girl...      17   \n",
       "4       Romanticism/ivan-aivazovsky_morning-1851.jpg       9   \n",
       "\n",
       "                genre           art_style  \n",
       "0           landscape             Realism  \n",
       "1  religious_painting             Baroque  \n",
       "2            portrait  Post_Impressionism  \n",
       "3      genre_painting       Impressionism  \n",
       "4                 NaN         Romanticism  "
      ]
     },
     "execution_count": 27,
     "metadata": {},
     "output_type": "execute_result"
    }
   ],
   "source": [
    "df.head(5)"
   ]
  },
  {
   "cell_type": "markdown",
   "metadata": {},
   "source": [
    "We get the artist from the filename."
   ]
  },
  {
   "cell_type": "code",
   "execution_count": 28,
   "metadata": {},
   "outputs": [],
   "source": [
    "df['artist'] = df['file'].str.split('/').str[1].str.split('_').str[0]"
   ]
  },
  {
   "cell_type": "code",
   "execution_count": 29,
   "metadata": {},
   "outputs": [
    {
     "data": {
      "text/plain": [
       "array(['vincent-van-gogh', 'rembrandt', 'paul-cezanne', ...,\n",
       "       'isa-genzken', 'james-turrell', 'frida-kahlo'], dtype=object)"
      ]
     },
     "execution_count": 29,
     "metadata": {},
     "output_type": "execute_result"
    }
   ],
   "source": [
    "df.artist.unique()"
   ]
  },
  {
   "cell_type": "code",
   "execution_count": 31,
   "metadata": {},
   "outputs": [],
   "source": [
    "df = df.rename(columns={'file': 'filename'})"
   ]
  },
  {
   "cell_type": "code",
   "execution_count": 32,
   "metadata": {},
   "outputs": [
    {
     "data": {
      "text/html": [
       "<div>\n",
       "<style scoped>\n",
       "    .dataframe tbody tr th:only-of-type {\n",
       "        vertical-align: middle;\n",
       "    }\n",
       "\n",
       "    .dataframe tbody tr th {\n",
       "        vertical-align: top;\n",
       "    }\n",
       "\n",
       "    .dataframe thead th {\n",
       "        text-align: right;\n",
       "    }\n",
       "</style>\n",
       "<table border=\"1\" class=\"dataframe\">\n",
       "  <thead>\n",
       "    <tr style=\"text-align: right;\">\n",
       "      <th></th>\n",
       "      <th>filename</th>\n",
       "      <th>artist</th>\n",
       "      <th>genre</th>\n",
       "      <th>art_style</th>\n",
       "    </tr>\n",
       "  </thead>\n",
       "  <tbody>\n",
       "    <tr>\n",
       "      <th>0</th>\n",
       "      <td>Realism/vincent-van-gogh_pine-trees-in-the-fen...</td>\n",
       "      <td>vincent-van-gogh</td>\n",
       "      <td>landscape</td>\n",
       "      <td>Realism</td>\n",
       "    </tr>\n",
       "    <tr>\n",
       "      <th>1</th>\n",
       "      <td>Baroque/rembrandt_the-angel-appearing-to-the-s...</td>\n",
       "      <td>rembrandt</td>\n",
       "      <td>religious_painting</td>\n",
       "      <td>Baroque</td>\n",
       "    </tr>\n",
       "    <tr>\n",
       "      <th>2</th>\n",
       "      <td>Post_Impressionism/paul-cezanne_portrait-of-th...</td>\n",
       "      <td>paul-cezanne</td>\n",
       "      <td>portrait</td>\n",
       "      <td>Post_Impressionism</td>\n",
       "    </tr>\n",
       "    <tr>\n",
       "      <th>3</th>\n",
       "      <td>Impressionism/pierre-auguste-renoir_young-girl...</td>\n",
       "      <td>pierre-auguste-renoir</td>\n",
       "      <td>genre_painting</td>\n",
       "      <td>Impressionism</td>\n",
       "    </tr>\n",
       "    <tr>\n",
       "      <th>4</th>\n",
       "      <td>Romanticism/ivan-aivazovsky_morning-1851.jpg</td>\n",
       "      <td>ivan-aivazovsky</td>\n",
       "      <td>NaN</td>\n",
       "      <td>Romanticism</td>\n",
       "    </tr>\n",
       "  </tbody>\n",
       "</table>\n",
       "</div>"
      ],
      "text/plain": [
       "                                            filename                 artist  \\\n",
       "0  Realism/vincent-van-gogh_pine-trees-in-the-fen...       vincent-van-gogh   \n",
       "1  Baroque/rembrandt_the-angel-appearing-to-the-s...              rembrandt   \n",
       "2  Post_Impressionism/paul-cezanne_portrait-of-th...           paul-cezanne   \n",
       "3  Impressionism/pierre-auguste-renoir_young-girl...  pierre-auguste-renoir   \n",
       "4       Romanticism/ivan-aivazovsky_morning-1851.jpg        ivan-aivazovsky   \n",
       "\n",
       "                genre           art_style  \n",
       "0           landscape             Realism  \n",
       "1  religious_painting             Baroque  \n",
       "2            portrait  Post_Impressionism  \n",
       "3      genre_painting       Impressionism  \n",
       "4                 NaN         Romanticism  "
      ]
     },
     "execution_count": 32,
     "metadata": {},
     "output_type": "execute_result"
    }
   ],
   "source": [
    "df.head(5)"
   ]
  },
  {
   "cell_type": "code",
   "execution_count": 34,
   "metadata": {},
   "outputs": [
    {
     "name": "stdout",
     "output_type": "stream",
     "text": [
      "Empty DataFrame\n",
      "Columns: [filename, artist, genre, art_style]\n",
      "Index: []\n"
     ]
    }
   ],
   "source": [
    "duplicate_rows = df[df.duplicated('filename', keep=False)]\n",
    "print(duplicate_rows)"
   ]
  },
  {
   "cell_type": "markdown",
   "metadata": {},
   "source": [
    "Save the results to `labels.csv`"
   ]
  },
  {
   "cell_type": "code",
   "execution_count": 33,
   "metadata": {},
   "outputs": [],
   "source": [
    "df.to_csv('labels.csv', index=False)"
   ]
  }
 ],
 "metadata": {
  "kernelspec": {
   "display_name": ".venv",
   "language": "python",
   "name": "python3"
  },
  "language_info": {
   "codemirror_mode": {
    "name": "ipython",
    "version": 3
   },
   "file_extension": ".py",
   "mimetype": "text/x-python",
   "name": "python",
   "nbconvert_exporter": "python",
   "pygments_lexer": "ipython3",
   "version": "3.10.8"
  }
 },
 "nbformat": 4,
 "nbformat_minor": 2
}
